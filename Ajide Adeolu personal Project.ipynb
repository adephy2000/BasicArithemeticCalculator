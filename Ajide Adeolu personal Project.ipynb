{
 "cells": [
  {
   "cell_type": "code",
   "execution_count": 1,
   "id": "eb16f1ef",
   "metadata": {},
   "outputs": [
    {
     "name": "stdout",
     "output_type": "stream",
     "text": [
      "Welcome to the Basic Arithmetic Calculator!\n",
      "Please enter the first number: 56\n",
      "Please enter the second number: 4335\n",
      "Select an operation:\n",
      "1. Multiplication\n",
      "2. Addition\n",
      "3. Subtraction\n",
      "Enter your choice (1/2/3): 1\n",
      "Result: 56.0 * 4335.0 = 242760.0\n",
      "Do you want to perform another calculation? (yes/no): no\n",
      "Thank you for using the Basic Arithmetic Calculator! Have a great day.\n"
     ]
    }
   ],
   "source": [
    "def perform_calculation(num1, num2, operation):\n",
    "    if operation == 1:\n",
    "        result = num1 * num2\n",
    "        operator = '*'\n",
    "    elif operation == 2:\n",
    "        result = num1 + num2\n",
    "        operator = '+'\n",
    "    elif operation == 3:\n",
    "        result = num1 - num2\n",
    "        operator = '-'\n",
    "    return result, operator\n",
    "\n",
    "def main():\n",
    "    print(\"Welcome to the Basic Arithmetic Calculator!\")\n",
    "\n",
    "    while True:\n",
    "        num1 = float(input(\"Please enter the first number: \"))\n",
    "        num2 = float(input(\"Please enter the second number: \"))\n",
    "\n",
    "        print(\"Select an operation:\")\n",
    "        print(\"1. Multiplication\")\n",
    "        print(\"2. Addition\")\n",
    "        print(\"3. Subtraction\")\n",
    "\n",
    "        operation = int(input(\"Enter your choice (1/2/3): \"))\n",
    "\n",
    "        result, operator = perform_calculation(num1, num2, operation)\n",
    "        print(f\"Result: {num1} {operator} {num2} = {result}\")\n",
    "\n",
    "        repeat = input(\"Do you want to perform another calculation? (yes/no): \")\n",
    "        if repeat.lower() != 'yes':\n",
    "            break\n",
    "\n",
    "    print(\"Thank you for using the Basic Arithmetic Calculator! Have a great day.\")\n",
    "\n",
    "if __name__ == \"__main__\":\n",
    "    main()\n"
   ]
  },
  {
   "cell_type": "code",
   "execution_count": null,
   "id": "de659aed",
   "metadata": {},
   "outputs": [],
   "source": []
  }
 ],
 "metadata": {
  "kernelspec": {
   "display_name": "Python 3 (ipykernel)",
   "language": "python",
   "name": "python3"
  },
  "language_info": {
   "codemirror_mode": {
    "name": "ipython",
    "version": 3
   },
   "file_extension": ".py",
   "mimetype": "text/x-python",
   "name": "python",
   "nbconvert_exporter": "python",
   "pygments_lexer": "ipython3",
   "version": "3.10.9"
  }
 },
 "nbformat": 4,
 "nbformat_minor": 5
}
